{
  "nbformat": 4,
  "nbformat_minor": 0,
  "metadata": {
    "colab": {
      "provenance": [],
      "authorship_tag": "ABX9TyMjYSbV54aKtxawUs5BWF41",
      "include_colab_link": true
    },
    "kernelspec": {
      "name": "python3",
      "display_name": "Python 3"
    },
    "language_info": {
      "name": "python"
    }
  },
  "cells": [
    {
      "cell_type": "markdown",
      "metadata": {
        "id": "view-in-github",
        "colab_type": "text"
      },
      "source": [
        "<a href=\"https://colab.research.google.com/github/FarhanKhan1/NLP/blob/main/Parts_of_speech.ipynb\" target=\"_parent\"><img src=\"https://colab.research.google.com/assets/colab-badge.svg\" alt=\"Open In Colab\"/></a>"
      ]
    },
    {
      "cell_type": "markdown",
      "source": [
        "## **Let's explore POS tagging in this chapter**"
      ],
      "metadata": {
        "id": "kKjGpdZmVLxp"
      }
    },
    {
      "cell_type": "code",
      "execution_count": 2,
      "metadata": {
        "id": "IYhC-_HHUpr4"
      },
      "outputs": [],
      "source": [
        "import spacy"
      ]
    },
    {
      "cell_type": "code",
      "source": [
        "nlp = spacy.load(\"en_core_web_sm\")\n",
        "doc = nlp(\"Farhan went to the Newyork. He is going to work for a US based IT company.\")\n",
        "\n",
        "for token in doc:\n",
        "    print(token,\" | \", token.pos_, \" | \", spacy.explain(token.pos_))"
      ],
      "metadata": {
        "colab": {
          "base_uri": "https://localhost:8080/"
        },
        "id": "8BKfDOWZXnLp",
        "outputId": "897d5853-b254-44ef-fd8e-b30d6c2c3819"
      },
      "execution_count": 5,
      "outputs": [
        {
          "output_type": "stream",
          "name": "stdout",
          "text": [
            "Farhan  |  PROPN  |  proper noun\n",
            "went  |  VERB  |  verb\n",
            "to  |  ADP  |  adposition\n",
            "the  |  DET  |  determiner\n",
            "Newyork  |  PROPN  |  proper noun\n",
            ".  |  PUNCT  |  punctuation\n",
            "He  |  PRON  |  pronoun\n",
            "is  |  AUX  |  auxiliary\n",
            "going  |  VERB  |  verb\n",
            "to  |  PART  |  particle\n",
            "work  |  VERB  |  verb\n",
            "for  |  ADP  |  adposition\n",
            "a  |  DET  |  determiner\n",
            "US  |  PROPN  |  proper noun\n",
            "based  |  VERB  |  verb\n",
            "IT  |  PROPN  |  proper noun\n",
            "company  |  NOUN  |  noun\n",
            ".  |  PUNCT  |  punctuation\n"
          ]
        }
      ]
    },
    {
      "cell_type": "code",
      "source": [
        "text = \"\"\"Inflation rose again in April, continuing a climb that has pushed consumers to the brink and is threatening the economic expansion, the Bureau of Labor Statistics reported Wednesday.\n",
        "\n",
        "The consumer price index, a broad-based measure of prices for goods and services, increased 8.3% from a year ago, higher than the Dow Jones estimate for an 8.1% gain. That represented a slight ease from March’s peak but was still close to the highest level since the summer of 1982.\n",
        "\n",
        "Removing volatile food and energy prices, so-called core CPI still rose 6.2%, against expectations for a 6% gain, clouding hopes that inflation had peaked in March.\n",
        "\n",
        "The month-over-month gains also were higher than expectations — 0.3% on headline CPI versus the 0.2% estimate and a 0.6% increase for core, against the outlook for a 0.4% gain.\n",
        "\n",
        "The price gains also meant that workers continued to lose ground. Real wages adjusted for inflation decreased 0.1% on the month despite a nominal increase of 0.3% in average hourly earnings. Over the past year, real earnings have dropped 2.6% even though average hourly earnings are up 5.5%.\n",
        "\n",
        "Inflation has been the single biggest threat to a recovery that began early in the Covid pandemic and saw the economy in 2021 stage its biggest single-year growth level since 1984. Rising prices at the pump and in grocery stores have been one problem, but inflation has spread beyond those two areas into housing, auto sales and a host of other areas.\n",
        "\n",
        "Federal Reserve officials have responded to the problem with two interest rate hikes so far this year and pledges of more until inflation comes down to the central bank’s 2% goal. However, Wednesday’s data shows that the Fed has a big job ahead.\n",
        "\n",
        "Credits: cnbc.com\"\"\""
      ],
      "metadata": {
        "id": "Bij-kzbaZM1_"
      },
      "execution_count": 7,
      "outputs": []
    },
    {
      "cell_type": "code",
      "source": [
        "nlp = spacy.load(\"en_core_web_sm\")"
      ],
      "metadata": {
        "id": "jWqxfkOAdvJO"
      },
      "execution_count": 8,
      "outputs": []
    },
    {
      "cell_type": "code",
      "source": [
        "doc = nlp(text)"
      ],
      "metadata": {
        "id": "2iYpbEyaeGjg"
      },
      "execution_count": 9,
      "outputs": []
    },
    {
      "cell_type": "markdown",
      "source": [
        "**Extracting all Noun from the above textbold text**"
      ],
      "metadata": {
        "id": "cOCqpQnFee35"
      }
    },
    {
      "cell_type": "code",
      "source": [
        "numbers = []\n",
        "noun = []\n",
        "for token in doc:\n",
        "  if token.pos_ in ['NUM']:\n",
        "    numbers.append(token.text)\n",
        "  elif token.pos_ in ['NOUN']:\n",
        "    noun.append(token.text)\n",
        "\n",
        "print(\"Numbers: \", len(numbers))\n",
        "print(\"Noun: \",len(noun))"
      ],
      "metadata": {
        "colab": {
          "base_uri": "https://localhost:8080/"
        },
        "id": "uunH4c3ZeLdi",
        "outputId": "77b9e7c6-ae44-4325-e2d4-d81ca22d6569"
      },
      "execution_count": 17,
      "outputs": [
        {
          "output_type": "stream",
          "name": "stdout",
          "text": [
            "Numbers:  19\n",
            "Noun:  96\n"
          ]
        }
      ]
    },
    {
      "cell_type": "code",
      "source": [
        "type(doc.count_by(spacy.attrs.POS))"
      ],
      "metadata": {
        "colab": {
          "base_uri": "https://localhost:8080/"
        },
        "id": "mrTEQBlmeRjP",
        "outputId": "a1c24768-0a83-4795-9f4c-95fe3fbe60b0"
      },
      "execution_count": 21,
      "outputs": [
        {
          "output_type": "execute_result",
          "data": {
            "text/plain": [
              "dict"
            ]
          },
          "metadata": {},
          "execution_count": 21
        }
      ]
    },
    {
      "cell_type": "code",
      "source": [],
      "metadata": {
        "id": "o3dc3gMugizn"
      },
      "execution_count": null,
      "outputs": []
    }
  ]
}