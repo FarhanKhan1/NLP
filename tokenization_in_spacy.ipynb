{
  "nbformat": 4,
  "nbformat_minor": 0,
  "metadata": {
    "colab": {
      "provenance": [],
      "authorship_tag": "ABX9TyNpaztqLrNh7qZvXnFjsbja",
      "include_colab_link": true
    },
    "kernelspec": {
      "name": "python3",
      "display_name": "Python 3"
    },
    "language_info": {
      "name": "python"
    }
  },
  "cells": [
    {
      "cell_type": "markdown",
      "metadata": {
        "id": "view-in-github",
        "colab_type": "text"
      },
      "source": [
        "<a href=\"https://colab.research.google.com/github/FarhanKhan1/NLP/blob/main/tokenization_in_spacy.ipynb\" target=\"_parent\"><img src=\"https://colab.research.google.com/assets/colab-badge.svg\" alt=\"Open In Colab\"/></a>"
      ]
    },
    {
      "cell_type": "code",
      "execution_count": 1,
      "metadata": {
        "id": "x5HsijQF37mP"
      },
      "outputs": [],
      "source": [
        "import spacy"
      ]
    },
    {
      "cell_type": "code",
      "source": [
        "text='''\n",
        "Look for data to help you address the question. Governments are good\n",
        "sources because data from public research is often freely available. Good\n",
        "places to start include http://www.data.gov/, and http://www.science.\n",
        "gov/, and in the United Kingdom, http://data.gov.uk/.\n",
        "Two of my favorite data sets are the General Social Survey at http://www3.norc.org/gss+website/, \n",
        "and the European Social Survey at http://www.europeansocialsurvey.org/.\n",
        "'''"
      ],
      "metadata": {
        "id": "jZTyH7LVG5bF"
      },
      "execution_count": 2,
      "outputs": []
    },
    {
      "cell_type": "code",
      "source": [
        "nlp = spacy.blank('en')"
      ],
      "metadata": {
        "id": "c66L7JvwG65S"
      },
      "execution_count": 3,
      "outputs": []
    },
    {
      "cell_type": "code",
      "source": [
        "doc = nlp(text)"
      ],
      "metadata": {
        "id": "_cSjwWBEHUlC"
      },
      "execution_count": 6,
      "outputs": []
    },
    {
      "cell_type": "code",
      "source": [
        "for token in doc:\n",
        "  print(token)\n"
      ],
      "metadata": {
        "colab": {
          "base_uri": "https://localhost:8080/"
        },
        "id": "ObMKL1YAHabu",
        "outputId": "baab3943-78e8-4753-97e2-4e3088f965f2"
      },
      "execution_count": 10,
      "outputs": [
        {
          "output_type": "stream",
          "name": "stdout",
          "text": [
            "\n",
            "\n",
            "Look\n",
            "for\n",
            "data\n",
            "to\n",
            "help\n",
            "you\n",
            "address\n",
            "the\n",
            "question\n",
            ".\n",
            "Governments\n",
            "are\n",
            "good\n",
            "\n",
            "\n",
            "sources\n",
            "because\n",
            "data\n",
            "from\n",
            "public\n",
            "research\n",
            "is\n",
            "often\n",
            "freely\n",
            "available\n",
            ".\n",
            "Good\n",
            "\n",
            "\n",
            "places\n",
            "to\n",
            "start\n",
            "include\n",
            "http://www.data.gov/\n",
            ",\n",
            "and\n",
            "http://www.science\n",
            ".\n",
            "\n",
            "\n",
            "gov/\n",
            ",\n",
            "and\n",
            "in\n",
            "the\n",
            "United\n",
            "Kingdom\n",
            ",\n",
            "http://data.gov.uk/.\n",
            "\n",
            "\n",
            "Two\n",
            "of\n",
            "my\n",
            "favorite\n",
            "data\n",
            "sets\n",
            "are\n",
            "the\n",
            "General\n",
            "Social\n",
            "Survey\n",
            "at\n",
            "http://www3.norc.org/gss+website/\n",
            ",\n",
            "\n",
            "\n",
            "and\n",
            "the\n",
            "European\n",
            "Social\n",
            "Survey\n",
            "at\n",
            "http://www.europeansocialsurvey.org/.\n",
            "\n",
            "\n"
          ]
        }
      ]
    },
    {
      "cell_type": "code",
      "source": [
        "urls = []\n",
        "for token in doc:\n",
        "  if token.like_url:\n",
        "    urls.append(token)\n"
      ],
      "metadata": {
        "id": "ILJBfpoLHfb2"
      },
      "execution_count": 19,
      "outputs": []
    },
    {
      "cell_type": "code",
      "source": [
        "urls"
      ],
      "metadata": {
        "colab": {
          "base_uri": "https://localhost:8080/"
        },
        "id": "klisIkDxIE9H",
        "outputId": "0eee62bc-03a6-48e0-93f1-22a61243cec6"
      },
      "execution_count": 20,
      "outputs": [
        {
          "output_type": "execute_result",
          "data": {
            "text/plain": [
              "[http://www.data.gov/,\n",
              " http://www.science,\n",
              " http://data.gov.uk/.,\n",
              " http://www3.norc.org/gss+website/,\n",
              " http://www.europeansocialsurvey.org/.]"
            ]
          },
          "metadata": {},
          "execution_count": 20
        }
      ]
    },
    {
      "cell_type": "code",
      "source": [
        "transactions = \"Tony gave two $ to Peter, Bruce gave 500 € to Steve\"\n",
        "nlp_obj = spacy.blank('en')\n",
        "doc = nlp_obj(transactions)\n",
        "for token in doc:\n",
        "    print(token.is_currency)"
      ],
      "metadata": {
        "colab": {
          "base_uri": "https://localhost:8080/"
        },
        "id": "4JzdKHS0IXf4",
        "outputId": "0a2c86dd-6058-4fbc-fcec-24e888c40897"
      },
      "execution_count": 31,
      "outputs": [
        {
          "output_type": "stream",
          "name": "stdout",
          "text": [
            "False\n",
            "False\n",
            "False\n",
            "True\n",
            "False\n",
            "False\n",
            "False\n",
            "False\n",
            "False\n",
            "False\n",
            "True\n",
            "False\n",
            "False\n"
          ]
        }
      ]
    },
    {
      "cell_type": "code",
      "source": [
        "trans = []\n",
        "for token in doc:\n",
        "  if token.is_currency:\n",
        "    trans.append(str(doc[token.i-1])+' '+str(token.text))\n",
        "\n",
        "trans"
      ],
      "metadata": {
        "colab": {
          "base_uri": "https://localhost:8080/"
        },
        "id": "JCd_FVg-Iwy9",
        "outputId": "ec6b9516-1e71-4c35-8c27-96ebc0e31b7c"
      },
      "execution_count": 34,
      "outputs": [
        {
          "output_type": "execute_result",
          "data": {
            "text/plain": [
              "['two $', '500 €']"
            ]
          },
          "metadata": {},
          "execution_count": 34
        }
      ]
    },
    {
      "cell_type": "code",
      "source": [],
      "metadata": {
        "id": "eNlxyxYmMpoi"
      },
      "execution_count": 29,
      "outputs": []
    },
    {
      "cell_type": "code",
      "source": [],
      "metadata": {
        "id": "6LI-X5nFNFGj"
      },
      "execution_count": null,
      "outputs": []
    }
  ]
}