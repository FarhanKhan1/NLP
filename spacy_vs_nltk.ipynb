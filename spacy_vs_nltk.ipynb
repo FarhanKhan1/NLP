{
  "nbformat": 4,
  "nbformat_minor": 0,
  "metadata": {
    "colab": {
      "provenance": [],
      "authorship_tag": "ABX9TyP+CiG9enGKry5/f3XpRZ/5",
      "include_colab_link": true
    },
    "kernelspec": {
      "name": "python3",
      "display_name": "Python 3"
    },
    "language_info": {
      "name": "python"
    }
  },
  "cells": [
    {
      "cell_type": "markdown",
      "metadata": {
        "id": "view-in-github",
        "colab_type": "text"
      },
      "source": [
        "<a href=\"https://colab.research.google.com/github/FarhanKhan1/NLP/blob/main/spacy_vs_nltk.ipynb\" target=\"_parent\"><img src=\"https://colab.research.google.com/assets/colab-badge.svg\" alt=\"Open In Colab\"/></a>"
      ]
    },
    {
      "cell_type": "markdown",
      "source": [
        "Importing spacy and creating a spacy doc"
      ],
      "metadata": {
        "id": "iBRD_u6L0T1I"
      }
    },
    {
      "cell_type": "code",
      "execution_count": 1,
      "metadata": {
        "id": "ZlkxllG4zl0u"
      },
      "outputs": [],
      "source": [
        "import spacy\n",
        "nlp = spacy.load(\"en_core_web_sm\")\n",
        "doc = nlp(\"Farhan loves naan karahi of Lahore. Umair loves biryani of Karachi\")"
      ]
    },
    {
      "cell_type": "markdown",
      "source": [
        "Sentence segmentation using spacy"
      ],
      "metadata": {
        "id": "1_1ZpFRm0eFI"
      }
    },
    {
      "cell_type": "code",
      "source": [
        "for jumla in doc.sents:\n",
        "  print(jumla)"
      ],
      "metadata": {
        "colab": {
          "base_uri": "https://localhost:8080/"
        },
        "id": "2A5ouinX0Jay",
        "outputId": "7caf1a01-5299-4b12-8373-3d31bf7491c5"
      },
      "execution_count": 3,
      "outputs": [
        {
          "output_type": "stream",
          "name": "stdout",
          "text": [
            "Farhan loves naan karahi of Lahore.\n",
            "Umair loves biryani of Karachi\n"
          ]
        }
      ]
    },
    {
      "cell_type": "markdown",
      "source": [
        "Words tokenization"
      ],
      "metadata": {
        "id": "lLCZi6ZG1Vbn"
      }
    },
    {
      "cell_type": "code",
      "source": [
        "for sentence in doc.sents:\n",
        "  for word in sentence:\n",
        "    print(word)"
      ],
      "metadata": {
        "colab": {
          "base_uri": "https://localhost:8080/"
        },
        "id": "bcXjifrB01Kw",
        "outputId": "4ec77f39-b0a5-416f-b863-bdce96859386"
      },
      "execution_count": 4,
      "outputs": [
        {
          "output_type": "stream",
          "name": "stdout",
          "text": [
            "Farhan\n",
            "loves\n",
            "naan\n",
            "karahi\n",
            "of\n",
            "Lahore\n",
            ".\n",
            "Umair\n",
            "loves\n",
            "biryani\n",
            "of\n",
            "Karachi\n"
          ]
        }
      ]
    },
    {
      "cell_type": "markdown",
      "source": [
        "Using nltk"
      ],
      "metadata": {
        "id": "4yRDo1uh1xb3"
      }
    },
    {
      "cell_type": "code",
      "source": [
        "from nltk.tokenize import sent_tokenize\n",
        "import nltk\n",
        "nltk.download('punkt')"
      ],
      "metadata": {
        "colab": {
          "base_uri": "https://localhost:8080/"
        },
        "id": "yck0Giy-1sZT",
        "outputId": "cdb85da8-e37f-4024-aa4a-dea158f70bef"
      },
      "execution_count": 5,
      "outputs": [
        {
          "output_type": "stream",
          "name": "stderr",
          "text": [
            "[nltk_data] Downloading package punkt to /root/nltk_data...\n",
            "[nltk_data]   Unzipping tokenizers/punkt.zip.\n"
          ]
        },
        {
          "output_type": "execute_result",
          "data": {
            "text/plain": [
              "True"
            ]
          },
          "metadata": {},
          "execution_count": 5
        }
      ]
    },
    {
      "cell_type": "code",
      "source": [
        "sent_tokenize(\"Farhan loves naan karahi of Lahore. Umair loves biryani of Karachi\")"
      ],
      "metadata": {
        "colab": {
          "base_uri": "https://localhost:8080/"
        },
        "id": "kr3NInqZ1_bl",
        "outputId": "65b6e311-acf4-4e42-cae8-f1f09bec9fca"
      },
      "execution_count": 6,
      "outputs": [
        {
          "output_type": "execute_result",
          "data": {
            "text/plain": [
              "['Farhan loves naan karahi of Lahore.', 'Umair loves biryani of Karachi']"
            ]
          },
          "metadata": {},
          "execution_count": 6
        }
      ]
    },
    {
      "cell_type": "code",
      "source": [],
      "metadata": {
        "id": "mkWrP9qH2-82"
      },
      "execution_count": null,
      "outputs": []
    }
  ]
}